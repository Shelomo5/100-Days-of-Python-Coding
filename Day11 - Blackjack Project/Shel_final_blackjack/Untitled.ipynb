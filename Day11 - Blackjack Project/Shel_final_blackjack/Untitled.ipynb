{
 "cells": [
  {
   "cell_type": "code",
   "execution_count": null,
   "id": "677ec147",
   "metadata": {},
   "outputs": [],
   "source": [
    "from replit import clear\n",
    "from art import logo\n",
    "print(logo)\n",
    "#Function finds max value in dictionary\n",
    "def max_bidder(betting_dict):\n",
    "    #{name: value}\n",
    "    max_value = 0\n",
    "    name_key =''\n",
    "    #iterating through each key value (name) in dictionary\n",
    "    for better_name in betting_dict:\n",
    "        #storing value of dict in variable for a given key\n",
    "        bid_value = betting_dict[better_name]\n",
    "        #comparing max_value to values iterated to find highest value\n",
    "        if bid_value > max_value:\n",
    "            max_value = bid_value\n",
    "            #key which is the name of highest value is the winner\n",
    "            name_key = better_name\n",
    "    print(f\"The winner is {name_key} with a bid of {max_value}!\")\n",
    "\n",
    "print(\"Welcome to the secret auction program.\")\n",
    "bet_dict = {}\n",
    "bidding = True\n",
    "#while loop to keep bidding going until all values have been put in dictionary\n",
    "while bidding:\n",
    "    name = input(\"What is your name?\\n \")\n",
    "    bid_amount = int(input(\"What is your bid?\\n $\"))\n",
    "    #bid_amount is stored in bet_dict dictionary where the name is the key\n",
    "    bet_dict[name] = bid_amount\n",
    "    \n",
    "    more_betting = input(\"Are there any other bidders? yes or no\\n\")\n",
    "    if more_betting.lower() == 'yes':\n",
    "        bidding = True\n",
    "        clear()\n",
    "    elif more_betting.lower() == 'no':\n",
    "        bidding = False\n",
    "print(bet_dict)\n",
    "\n",
    "#calling function        \n",
    "max_bidder(bet_dict)      \n",
    "\n",
    "        \n",
    "    "
   ]
  }
 ],
 "metadata": {
  "kernelspec": {
   "display_name": "Python 3 (ipykernel)",
   "language": "python",
   "name": "python3"
  },
  "language_info": {
   "codemirror_mode": {
    "name": "ipython",
    "version": 3
   },
   "file_extension": ".py",
   "mimetype": "text/x-python",
   "name": "python",
   "nbconvert_exporter": "python",
   "pygments_lexer": "ipython3",
   "version": "3.9.7"
  }
 },
 "nbformat": 4,
 "nbformat_minor": 5
}
